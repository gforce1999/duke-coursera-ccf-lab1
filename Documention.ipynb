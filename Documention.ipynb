{
 "cells": [
  {
   "cell_type": "markdown",
   "id": "fe4d921e",
   "metadata": {},
   "source": [
    "#  Documentation notebook"
   ]
  },
  {
   "cell_type": "code",
   "execution_count": 1,
   "id": "c4b7c1ef",
   "metadata": {},
   "outputs": [
    {
     "name": "stdout",
     "output_type": "stream",
     "text": [
      "hello world\n"
     ]
    }
   ],
   "source": [
    "print(\"hello world\")"
   ]
  },
  {
   "cell_type": "markdown",
   "id": "19125e29",
   "metadata": {},
   "source": [
    "## Using some ideas from the [Master Markdown Gitub Guide](https://github.com/noahgift/duke-coursera-ccf-lab1/blob/main/Practice-Markdown.ipynb)"
   ]
  },
  {
   "cell_type": "markdown",
   "id": "fb737283",
   "metadata": {},
   "source": [
    "###  examples of styling text\n",
    "- ***I'll make this bold***\n",
    "- _I'll make this italicized_\n",
    "- ~~I'll strike through this text~~\n",
    "- **THIS IS BOLD _AND THIS IS ITALICIZED_ TEXT**\n",
    "- <sub>subscript text</sub>\n",
    "- <sup>superscript text</sup>"
   ]
  },
  {
   "cell_type": "code",
   "execution_count": null,
   "id": "5ea29f21",
   "metadata": {},
   "outputs": [],
   "source": []
  }
 ],
 "metadata": {
  "kernelspec": {
   "display_name": "Python [conda env:PythonAdv] *",
   "language": "python",
   "name": "conda-env-PythonAdv-py"
  },
  "language_info": {
   "codemirror_mode": {
    "name": "ipython",
    "version": 3
   },
   "file_extension": ".py",
   "mimetype": "text/x-python",
   "name": "python",
   "nbconvert_exporter": "python",
   "pygments_lexer": "ipython3",
   "version": "3.6.13"
  }
 },
 "nbformat": 4,
 "nbformat_minor": 5
}
