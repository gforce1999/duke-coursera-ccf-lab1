{
  "cells": [
    {
      "cell_type": "markdown",
      "metadata": {
        "id": "view-in-github",
        "colab_type": "text"
      },
      "source": [
        "<a href=\"https://colab.research.google.com/github/gforce1999/duke-coursera-ccf-lab1/blob/main/Documention.ipynb\" target=\"_parent\"><img src=\"https://colab.research.google.com/assets/colab-badge.svg\" alt=\"Open In Colab\"/></a>"
      ]
    },
    {
      "cell_type": "markdown",
      "id": "fe4d921e",
      "metadata": {
        "id": "fe4d921e"
      },
      "source": [
        "#  Documentation notebook"
      ]
    },
    {
      "cell_type": "code",
      "execution_count": null,
      "id": "c4b7c1ef",
      "metadata": {
        "id": "c4b7c1ef",
        "outputId": "5a9b8c2b-6537-4c1c-af6e-e63c698bec15"
      },
      "outputs": [
        {
          "name": "stdout",
          "output_type": "stream",
          "text": [
            "hello world\n"
          ]
        }
      ],
      "source": [
        "print(\"hello world\")"
      ]
    },
    {
      "cell_type": "markdown",
      "id": "19125e29",
      "metadata": {
        "id": "19125e29"
      },
      "source": [
        "## Using some ideas from the [Master Markdown Gitub Guide](https://github.com/noahgift/duke-coursera-ccf-lab1/blob/main/Practice-Markdown.ipynb)"
      ]
    },
    {
      "cell_type": "markdown",
      "id": "fb737283",
      "metadata": {
        "id": "fb737283"
      },
      "source": [
        "###  examples of styling text\n",
        "- ***I'll make this bold***\n",
        "- _I'll make this italicized_\n",
        "- ~~I'll strike through this text~~\n",
        "- **THIS IS BOLD _AND THIS IS ITALICIZED_ TEXT**\n",
        "- <sub>subscript text</sub>\n",
        "- <sup>superscript text</sup>"
      ]
    },
    {
      "cell_type": "code",
      "execution_count": null,
      "id": "5ea29f21",
      "metadata": {
        "id": "5ea29f21"
      },
      "outputs": [],
      "source": []
    }
  ],
  "metadata": {
    "kernelspec": {
      "display_name": "Python [conda env:PythonAdv] *",
      "language": "python",
      "name": "conda-env-PythonAdv-py"
    },
    "language_info": {
      "codemirror_mode": {
        "name": "ipython",
        "version": 3
      },
      "file_extension": ".py",
      "mimetype": "text/x-python",
      "name": "python",
      "nbconvert_exporter": "python",
      "pygments_lexer": "ipython3",
      "version": "3.6.13"
    },
    "colab": {
      "provenance": [],
      "include_colab_link": true
    }
  },
  "nbformat": 4,
  "nbformat_minor": 5
}